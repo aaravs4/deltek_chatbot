{
 "cells": [
  {
   "cell_type": "code",
   "execution_count": 1,
   "metadata": {},
   "outputs": [
    {
     "data": {
      "application/vnd.jupyter.widget-view+json": {
       "model_id": "baa91a99235b496abf9f0357497e0285",
       "version_major": 2,
       "version_minor": 0
      },
      "text/plain": [
       "config.json:   0%|          | 0.00/608 [00:00<?, ?B/s]"
      ]
     },
     "metadata": {},
     "output_type": "display_data"
    },
    {
     "data": {
      "application/vnd.jupyter.widget-view+json": {
       "model_id": "df6f3903e84c4dde93e9acfe5b089080",
       "version_major": 2,
       "version_minor": 0
      },
      "text/plain": [
       "model.safetensors:   0%|          | 0.00/2.20G [00:00<?, ?B/s]"
      ]
     },
     "metadata": {},
     "output_type": "display_data"
    },
    {
     "data": {
      "application/vnd.jupyter.widget-view+json": {
       "model_id": "0694291a8e7c4b069677356c9eb5b251",
       "version_major": 2,
       "version_minor": 0
      },
      "text/plain": [
       "generation_config.json:   0%|          | 0.00/124 [00:00<?, ?B/s]"
      ]
     },
     "metadata": {},
     "output_type": "display_data"
    },
    {
     "data": {
      "application/vnd.jupyter.widget-view+json": {
       "model_id": "dfc40ad427934997b7b0dc4130ad2542",
       "version_major": 2,
       "version_minor": 0
      },
      "text/plain": [
       "tokenizer_config.json:   0%|          | 0.00/1.29k [00:00<?, ?B/s]"
      ]
     },
     "metadata": {},
     "output_type": "display_data"
    },
    {
     "data": {
      "application/vnd.jupyter.widget-view+json": {
       "model_id": "e416d6efbfe14612b27d013fdc22be1b",
       "version_major": 2,
       "version_minor": 0
      },
      "text/plain": [
       "tokenizer.model:   0%|          | 0.00/500k [00:00<?, ?B/s]"
      ]
     },
     "metadata": {},
     "output_type": "display_data"
    },
    {
     "data": {
      "application/vnd.jupyter.widget-view+json": {
       "model_id": "7e6d4e13e18d4e71aadfe61e9903178a",
       "version_major": 2,
       "version_minor": 0
      },
      "text/plain": [
       "tokenizer.json:   0%|          | 0.00/1.84M [00:00<?, ?B/s]"
      ]
     },
     "metadata": {},
     "output_type": "display_data"
    },
    {
     "data": {
      "application/vnd.jupyter.widget-view+json": {
       "model_id": "d7413630ea1c4ec09b000b1023289d27",
       "version_major": 2,
       "version_minor": 0
      },
      "text/plain": [
       "special_tokens_map.json:   0%|          | 0.00/551 [00:00<?, ?B/s]"
      ]
     },
     "metadata": {},
     "output_type": "display_data"
    }
   ],
   "source": [
    "import torch\n",
    "from transformers import pipeline\n",
    "\n",
    "pipe = pipeline(\"text-generation\", model=\"TinyLlama/TinyLlama-1.1B-Chat-v1.0\", torch_dtype=torch.bfloat16, device_map=\"auto\")\n",
    "\n"
   ]
  },
  {
   "cell_type": "code",
   "execution_count": 17,
   "metadata": {},
   "outputs": [
    {
     "name": "stdout",
     "output_type": "stream",
     "text": [
      "Register Now to Save\n",
      "\n",
      "\n",
      "\n",
      "\n",
      "\n",
      "\n",
      "\n",
      "\n",
      "\n",
      "\n",
      "\n",
      "\n",
      "\n",
      "\n",
      "\n",
      "Deltek Powers Projects\n",
      "Deltek delivers software and information solutions that enable superior levels of project intelligence, management and collaboration. Our industry-focused expertise makes your projects successful and helps you achieve performance that maximizes productivity at every stage of the project lifecycle that fuels your business.\n",
      "\n",
      "Learn More About our Vision\n",
      "\n",
      "\n",
      "\n",
      "\n",
      "\n",
      "The 5 Phases of the Project Lifecycle\n",
      "\n",
      "\n",
      "\n",
      "\n",
      "\n",
      "\n",
      "\n",
      "\n",
      "                    Win\n",
      "                \n",
      "\n",
      "\n",
      "\n",
      "\n",
      "\n",
      "\n",
      "\n",
      "                    Manage\n",
      "                \n",
      "\n",
      "\n",
      "\n",
      "\n",
      "\n",
      "\n",
      "\n",
      "                    Develop\n",
      "                \n",
      "\n",
      "\n",
      "\n",
      "\n",
      "\n",
      "\n",
      "\n",
      "                    Deliver\n",
      "                \n",
      "\n",
      "\n",
      "\n",
      "\n",
      "\n",
      "\n",
      "\n",
      "                    Measure\n",
      "                \n",
      "\n",
      "\n",
      "\n",
      "\n",
      "\n",
      "\n",
      "\n",
      "\n",
      "\n",
      "\n",
      "Win\n",
      "\n",
      "\n",
      "Win\n",
      "and discover new opportunities by streamlining your business development.\n",
      "\n",
      "\n",
      "\n",
      "\n",
      "\n",
      "\n",
      "\n",
      "Manage\n",
      "\n",
      "\n",
      "Manage\n",
      "your projects efficiently and cost effectively while optimizing resources.\n",
      "\n",
      "\n",
      "\n",
      "\n",
      "\n",
      "\n",
      "\n",
      "Develop\n",
      "Technology innovation is essential for small businesses seeking growth and a competitive advantage in the rapidly changing economy. With projects evolving quickly and needing to attract and retain talent, staying ahead of the competition is crucial.\n",
      "Many growing companies have their success stifled by entry-level software that is not purpose-built for their industry and cannot scale, cutting into performance and profitability. Industry-specific functionality and scalability of solutions should align with business growth to avoid potential expenses in the future.\n",
      "Deltek enables more than 10,000 small businesses with easy-to-use cloud solutions that scale seamlessly to help achieve performance that maximizes productivity and revenue. Our industry-specific software adapts and evolves with the needs of growing companies, providing the security, privacy and flexibility small businesses need while empowering their remote teams with an accessible, reliable platform.\n",
      "Deltek Professional Services\n",
      "\n",
      "\n",
      "\n",
      "\n",
      " \n",
      "\n",
      "\n",
      "Take advantage of a team of project focused consultants and project managers that implement, upgrade, and enable Deltek solutions around the world. No one has more experience with the Deltek product portfolio than any other organization. When choosing a Deltek product, wouldn’t you rather go with the most knowledgeable, most experienced and most connected Professional Services team to deliver your solution?\n",
      "Get your organization across the finish line and implement the changes needed to better support your business.\n",
      "Learn More \n",
      "\n",
      "\n",
      "\n",
      "\n",
      "\n",
      "\n",
      "\n",
      "Product Training\n",
      "\n",
      "\n",
      "\n",
      "\n",
      " \n",
      "\n",
      "\n",
      "Expand your Deltek product knowledge with tailored training that equips you and your team with the learning tools needed for long-term success. Product training is offered through our subscription-based learning platform, the Deltek Learning Zone (DLZ), which offers tailored curriculum and role-based learning to help you achieve more.\n",
      "Learn More \n",
      "\n",
      "\n",
      "\n",
      "\n",
      "\n",
      "\n",
      "\n",
      "Advocate Program\n",
      "Home\n",
      "\n",
      "Partners\n",
      "\n",
      "\n",
      "\n",
      "\n",
      "\n",
      "\n",
      "\n",
      "\n",
      "\n",
      "\n",
      "\n",
      "Deltek Partner Network\n",
      "Deltek’s technology partners are vital for deploying new capabilities, integrating third-party solutions and for achieving greater results in an accelerated timeframe.\n",
      "\n",
      "\n",
      "\n",
      "\n",
      "\n",
      "\n",
      "\n",
      "\n",
      "\n",
      "\n",
      "\n",
      "\n",
      "\n",
      "\n",
      "\n",
      "\n",
      "About The Deltek Partner Network\n"
     ]
    }
   ],
   "source": [
    "import bs4\n",
    "from langchain_community.document_loaders import WebBaseLoader\n",
    "from langchain_text_splitters import RecursiveCharacterTextSplitter\n",
    "from langchain.vectorstores import FAISS\n",
    "from langchain.indexes import VectorstoreIndexCreator\n",
    "from sentence_transformers import SentenceTransformer\n",
    "from langchain.embeddings import OpenAIEmbeddings\n",
    "from langchain.embeddings import HuggingFaceBgeEmbeddings\n",
    "\n",
    "##Load and split documents\n",
    "bs4_strainer = bs4.SoupStrainer(class_=(\"main-content\"))\n",
    "loader = WebBaseLoader(\n",
    "    web_paths=(\"https://deltek.com/en\",\"https://www.deltek.com/en/about/contact-us\", \"https://www.deltek.com/en/small-business\", \"https://www.deltek.com/en/customers\",\n",
    "               \"https://www.deltek.com/en/support\", \"https://www.deltek.com/en/partners\"),\n",
    "    bs_kwargs={\"parse_only\": bs4_strainer},\n",
    ")\n",
    "docs = loader.load()\n",
    "\n",
    "\n",
    "\n",
    "text_splitter = RecursiveCharacterTextSplitter(\n",
    "    chunk_size=1000, chunk_overlap=200, add_start_index=True\n",
    ")\n",
    "all_splits = text_splitter.split_documents(docs)\n",
    "all_splits_text = [split.page_content for split in all_splits]\n",
    "\n",
    "\n",
    "\n",
    "\n",
    "\n",
    "\n",
    "\n",
    "##open source embedding model\n",
    "model_name = \"BAAI/bge-large-en-v1.5\"\n",
    "model_kwargs = {'device': 'cpu'}\n",
    "encode_kwargs = {'normalize_embeddings': True} # set True to compute cosine similarity\n",
    "\n",
    "embeddings = HuggingFaceBgeEmbeddings(\n",
    "    model_name=model_name,\n",
    "    model_kwargs=model_kwargs,\n",
    "    encode_kwargs=encode_kwargs,\n",
    "    # query_instruction=\"What is Deltek?\"\n",
    ")\n",
    "\n",
    "query = \"what does Deltek do?\"\n",
    "db = FAISS.from_documents(all_splits, embeddings)\n",
    "\n",
    "##get relevant docs from vectorstore\n",
    "relevant_docs = db.similarity_search(query)\n",
    "formatted_docs = '\\n'.join(doc.page_content for doc in relevant_docs)\n",
    "print(formatted_docs)\n"
   ]
  },
  {
   "cell_type": "code",
   "execution_count": 18,
   "metadata": {},
   "outputs": [
    {
     "name": "stdout",
     "output_type": "stream",
     "text": [
      "The Deltek Partner Network is Deltek's technology partners who are essential for deploying new capabilities, integrating third-party solutions, and achieving greater results in an accelerated timeframe. Deltek's partners are selected based on their experience, expertise, and commitment to delivering innovative software solutions that meet the unique needs of small businesses. They are skilled in leveraging Deltek's industry-specific software to optimize performance, reduce costs, and maximize productivity, providing small businesses with the security, privacy, and flexibility they need. Partners can access a variety of resources, including product training, implementation support, and marketing and sales tools, to help them successfully implement Deltek's solutions and achieve their business goals.\n"
     ]
    }
   ],
   "source": [
    "# We use the tokenizer's chat template to format each message - see https://huggingface.co/docs/transformers/main/en/chat_templating\n",
    "messages = [\n",
    "    {\n",
    "        \"role\": \"system\",\n",
    "        \"content\": \"You are a friendly chatbot who responds about Deltek\"\n",
    "    },\n",
    "    {\"role\": \"user\", \"content\": \"context: \"+ formatted_docs + \"query: \" + query},\n",
    "]\n",
    "prompt = pipe.tokenizer.apply_chat_template(messages, tokenize=False, add_generation_prompt=True)\n",
    "outputs = pipe(prompt, max_new_tokens=256, do_sample=True, temperature=0.7, top_k=50, top_p=0.95)\n",
    "start_out = len(prompt)\n",
    "print(outputs[0][\"generated_text\"][start_out:])"
   ]
  }
 ],
 "metadata": {
  "kernelspec": {
   "display_name": ".venv",
   "language": "python",
   "name": "python3"
  },
  "language_info": {
   "codemirror_mode": {
    "name": "ipython",
    "version": 3
   },
   "file_extension": ".py",
   "mimetype": "text/x-python",
   "name": "python",
   "nbconvert_exporter": "python",
   "pygments_lexer": "ipython3",
   "version": "3.12.4"
  }
 },
 "nbformat": 4,
 "nbformat_minor": 2
}
