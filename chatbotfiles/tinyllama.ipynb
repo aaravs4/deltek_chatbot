{
 "cells": [
  {
   "cell_type": "code",
   "execution_count": 44,
   "metadata": {},
   "outputs": [],
   "source": [
    "import torch\n",
    "from transformers import pipeline\n",
    "import bs4\n",
    "from langchain_community.document_loaders import WebBaseLoader\n",
    "from langchain_text_splitters import RecursiveCharacterTextSplitter\n",
    "from langchain.vectorstores import FAISS\n",
    "from langchain.embeddings import HuggingFaceBgeEmbeddings\n",
    "\n",
    "\n",
    "#small open source llm\n",
    "pipe = pipeline(\"text-generation\", model=\"TinyLlama/TinyLlama-1.1B-Chat-v1.0\", torch_dtype=torch.bfloat16, device_map=\"auto\")\n",
    "\n",
    "##open source embedding model\n",
    "model_name = \"BAAI/bge-large-en-v1.5\"\n",
    "model_kwargs = {'device': 'cpu'}\n",
    "encode_kwargs = {'normalize_embeddings': True} # set True to compute cosine similarity\n",
    "\n",
    "embeddings = HuggingFaceBgeEmbeddings(\n",
    "    model_name=model_name,\n",
    "    model_kwargs=model_kwargs,\n",
    "    encode_kwargs=encode_kwargs,\n",
    "    query_instruction= 'Generate a representation for this sentence that can be used to retrieve related sentences:'\n",
    ")\n",
    "\n"
   ]
  },
  {
   "cell_type": "code",
   "execution_count": 45,
   "metadata": {},
   "outputs": [],
   "source": [
    "def load_docs():\n",
    "    bs4_strainer = bs4.SoupStrainer(class_=(\"main-content\"))\n",
    "    loader = WebBaseLoader(\n",
    "        web_paths=(\"https://deltek.com/en\",\"https://www.deltek.com/en/about/contact-us\", \"https://www.deltek.com/en/small-business\", \"https://www.deltek.com/en/customers\",\n",
    "                \"https://www.deltek.com/en/support\", \"https://www.deltek.com/en/partners\"),\n",
    "        bs_kwargs={\"parse_only\": bs4_strainer},\n",
    "    )\n",
    "    docs = loader.load()\n",
    "    text_splitter = RecursiveCharacterTextSplitter(\n",
    "        chunk_size=1000, chunk_overlap=200, add_start_index=True\n",
    "    )\n",
    "    all_splits = text_splitter.split_documents(docs)\n",
    "    return all_splits\n",
    "    # all_splits_text = [split.page_content for split in all_splits]\n",
    "\n",
    "\n",
    "\n",
    "\n",
    "\n",
    "\n",
    "\n",
    "\n",
    "\n"
   ]
  },
  {
   "cell_type": "code",
   "execution_count": 46,
   "metadata": {},
   "outputs": [],
   "source": [
    "\n",
    "def getDocs(query, all_splits, embeddings):\n",
    "    db = FAISS.from_documents(all_splits, embeddings)\n",
    "\n",
    "    ##get relevant docs from vectorstore\n",
    "    relevant_docs = db.similarity_search(query, k = 5)\n",
    "    formatted_docs = '\\n'.join(doc.page_content for doc in relevant_docs)\n"
   ]
  },
  {
   "cell_type": "code",
   "execution_count": 47,
   "metadata": {},
   "outputs": [],
   "source": [
    "# We use the tokenizer's chat template to format each message - see https://huggingface.co/docs/transformers/main/en/chat_templating\n",
    "def getoutput(query, context):\n",
    "    messages = [\n",
    "        {\n",
    "            \"role\": \"system\",\n",
    "            \"content\": f\"You are a friendly chatbot who responds about queries related to Deltek from {context}. You will not make up answers.\"\n",
    "        },\n",
    "        {\"role\": \"user\", \"content\": query},\n",
    "    ]\n",
    "    prompt = pipe.tokenizer.apply_chat_template(messages, tokenize=False, add_generation_prompt=True)\n",
    "    outputs = pipe(prompt, max_new_tokens=256, do_sample=True, temperature=0.7, top_k=50, top_p=0.95)\n",
    "    start_out = len(prompt)\n",
    "    return outputs[0][\"generated_text\"][start_out:]"
   ]
  },
  {
   "cell_type": "code",
   "execution_count": 49,
   "metadata": {},
   "outputs": [
    {
     "name": "stdout",
     "output_type": "stream",
     "text": [
      "\n",
      "Why is deltek trusted?: \n",
      "Deltek is a trusted brand in the industry for its expertise in software solutions for the accounting and finance needs of businesses. The company has been providing services for more than three decades and has a strong reputation for providing high-quality solutions, advanced technologies, and expertise. Deltek's commitment to innovation, customer satisfaction, and continuous improvement is a key factor in its success. Additionally, Deltek's focus on data-driven insights and analytics has contributed to its success in the industry.\n",
      "\n",
      "The Deltek brand is trusted because it has earned the confidence of its customers by providing them with high-quality software solutions, reliable service, and excellent support. Deltek's commitment to customer satisfaction, data-driven insights, and innovation has helped it establish itself as a leader in the industry.\n",
      "\n",
      "What does Deltek do?: \n",
      "Deltek is a comprehensive accounting software and business management solution that helps businesses streamline their financial operations, increase efficiency, and improve decision-making. It offers features like financial management, project management, invoicing, expense tracking, and more. Deltek is used by organizations of various sizes and industries, including small and medium-sized businesses (SMBs), mid-market businesses, and large enterprises.\n",
      "\n",
      "How can I contact Deltek?: \n",
      "If you are a customer of Deltek and need to contact their customer support, you can reach out to them through the following methods:\n",
      "\n",
      "1. Online support: Deltek provides an online support system through their website. You can access it by going to their website and clicking on the \"Support\" tab. From there, you can find the appropriate support channel and fill out the form to get in touch with their customer support team.\n",
      "\n",
      "2. Phone support: If you prefer to speak with a live representative, you can reach out to their customer support team through the phone. You can call their customer support number at 1-800-976-3782 and ask for a representative who can assist you with any queries related to Deltek.\n",
      "\n",
      "3. Email support: You can also reach out to their customer support team through their email support system. You can send them an email at support@deltek.com and provide them with as much information as possible about the issue you are facing.\n",
      "\n",
      "4. Social media support: Deltek has a dedicated social media account on Facebook, Twitter, and LinkedIn. You can reach out to their customer support team through these channels and ask for assistance.\n",
      "\n",
      "I hope\n"
     ]
    }
   ],
   "source": [
    "query1 = \"Why is deltek trusted?\"\n",
    "query2 = \"What does Deltek do?\"\n",
    "query3 = \"How can I contact Deltek?\"\n",
    "\n",
    "queries = [query1, query2, query3]\n",
    "splits = load_docs()\n",
    "\n",
    "\n",
    "for query in queries:\n",
    "    rel_docs = getDocs(query, splits, embeddings)\n",
    "    output = getoutput(query, rel_docs)\n",
    "    print(\"\\n\" + query + \": \\n\" + output)"
   ]
  }
 ],
 "metadata": {
  "kernelspec": {
   "display_name": ".venv",
   "language": "python",
   "name": "python3"
  },
  "language_info": {
   "codemirror_mode": {
    "name": "ipython",
    "version": 3
   },
   "file_extension": ".py",
   "mimetype": "text/x-python",
   "name": "python",
   "nbconvert_exporter": "python",
   "pygments_lexer": "ipython3",
   "version": "3.12.4"
  }
 },
 "nbformat": 4,
 "nbformat_minor": 2
}
